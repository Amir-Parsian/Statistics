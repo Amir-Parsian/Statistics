{
 "cells": [
  {
   "cell_type": "markdown",
   "metadata": {},
   "source": [
    "# Statistics\n",
    "This notebooks aim to show how to use python for statistical computing. Probably the place to start is to use <i>statistics module</i>.\n",
    "\n",
    "### Basic Concepts\n",
    "Sample mean is computed by following formula:\n",
    "\n",
    "$\\overline{x} = \\sum_{i=1}^{n} \\frac{x_i}{n} = \\frac{x_1 + x_2 + ... + x_n}{n}$"
   ]
  },
  {
   "cell_type": "code",
   "execution_count": 12,
   "metadata": {},
   "outputs": [
    {
     "name": "stdout",
     "output_type": "stream",
     "text": [
      "24.5\n",
      "5\n"
     ]
    }
   ],
   "source": [
    "import statistics as stats\n",
    "N = 50\n",
    "x = [i for i in range(N)]\n",
    "print(stats.mean(x))\n",
    "\n",
    "y = [1,6,8]\n",
    "print(stats.mean(y))"
   ]
  },
  {
   "cell_type": "markdown",
   "metadata": {},
   "source": [
    "Sample varience is calculated by following formular:\n",
    "\n",
    "$s^2 = \\sum_{i=1}^{n} \\frac{(x_i-\\overline{x})^2}{n-1}$\n",
    "\n",
    "Sample standard deviation is the positive square root of the sample variance:\n",
    "\n",
    "$s = \\sqrt{s^2}$"
   ]
  },
  {
   "cell_type": "code",
   "execution_count": null,
   "metadata": {},
   "outputs": [],
   "source": []
  }
 ],
 "metadata": {
  "kernelspec": {
   "display_name": "Python 3",
   "language": "python",
   "name": "python3"
  },
  "language_info": {
   "codemirror_mode": {
    "name": "ipython",
    "version": 3
   },
   "file_extension": ".py",
   "mimetype": "text/x-python",
   "name": "python",
   "nbconvert_exporter": "python",
   "pygments_lexer": "ipython3",
   "version": "3.8.5"
  }
 },
 "nbformat": 4,
 "nbformat_minor": 4
}
